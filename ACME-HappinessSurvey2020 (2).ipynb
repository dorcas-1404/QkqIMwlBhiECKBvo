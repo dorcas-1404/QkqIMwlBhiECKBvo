{
 "cells": [
  {
   "cell_type": "markdown",
   "id": "998eeaa6",
   "metadata": {},
   "source": [
    "# ACME-HappinessSurvey2020\n"
   ]
  },
  {
   "cell_type": "markdown",
   "id": "35017035",
   "metadata": {},
   "source": [
    "## Problem Statement\n",
    "\n",
    "We are one of the fastest growing startups in the logistics and delivery domain. We work with several partners and make on-demand delivery to our customers. During the COVID-19 pandemic, we are facing several different challenges and everyday we are trying to address these challenges.\n",
    "\n",
    "We thrive on making our customers happy. As a growing startup, with a global expansion strategy we know that we need to make our customers happy and the only way to do that is to measure how happy each customer is. If we can predict what makes our customers happy or unhappy, we can then take necessary actions.\n",
    "\n",
    "Getting feedback from customers is not easy either, but we do our best to get constant feedback from our customers. This is a crucial function to improve our operations across all levels.\n",
    "\n",
    "We recently did a survey to a select customer cohort. You are presented with a subset of this data. We will be using the remaining data as a private test set.\n",
    "\n",
    "### Goal(s):\n",
    "\n",
    "Predict if a customer is happy or not based on the answers they give to questions asked.\n",
    "\n",
    "### Success Metrics:\n",
    "\n",
    "Reach 73% accuracy score or above, or convince us why your solution is superior. We are definitely interested in every solution and insight you can provide us.\n",
    "\n",
    "### Bonus(es):\n",
    "\n",
    "We are very interested in finding which questions/features are more important when predicting a customer’s happiness. Using a feature selection approach, show us what is the minimal set of attributes/features that would preserve the most information about the problem while increasing predictability of the data we have. Is there any question that we can remove in our next survey?"
   ]
  },
  {
   "cell_type": "markdown",
   "id": "28987ae9",
   "metadata": {},
   "source": [
    "## Data Description:\n",
    "\n",
    "Y  = target attribute (Y) with values indicating 0 (unhappy) and 1 (happy) customers\n",
    "\n",
    "X1 = my order was delivered on time\n",
    "\n",
    "X2 = contents of my order was as I expected\n",
    "\n",
    "X3 = I ordered everything I wanted to order\n",
    "\n",
    "X4 = I paid a good price for my order\n",
    "\n",
    "X5 = I am satisfied with my courier\n",
    "\n",
    "X6 = the app makes ordering easy for me\n",
    "\n",
    "Attributes X1 to X6 indicate the responses for each question and have values from 1 to 5 where the smaller number indicates less and the higher number indicates more towards the answer."
   ]
  },
  {
   "cell_type": "markdown",
   "id": "2b0bb5e5",
   "metadata": {},
   "source": [
    "### This is a binary classificaton problem to predict wheather a customer would be happy or not based on feedbacks on services received.\n",
    "In this project a Classification Model will be used to categorize the target attribute"
   ]
  },
  {
   "cell_type": "code",
   "execution_count": 1,
   "id": "f01bc37a",
   "metadata": {},
   "outputs": [],
   "source": [
    "# Import the Libraries\n",
    "import numpy as np\n",
    "import pandas as pd\n",
    "import matplotlib.pyplot as plt\n",
    "import seaborn as sns\n",
    "%matplotlib inline\n",
    "\n",
    "# Import the Models and Methods\n",
    "from sklearn.tree import DecisionTreeClassifier\n",
    "from sklearn.svm import SVC\n",
    "from sklearn.neighbors import KNeighborsClassifier\n",
    "from xgboost import XGBClassifier\n",
    "from sklearn.linear_model import LogisticRegression\n",
    "from sklearn.ensemble import RandomForestClassifier\n",
    "\n",
    "from sklearn.preprocessing import StandardScaler\n",
    "from lazypredict.Supervised import LazyClassifier\n",
    "from sklearn.model_selection import train_test_split\n",
    "from sklearn.metrics import classification_report, confusion_matrix, accuracy_score \n",
    "from sklearn.model_selection import GridSearchCV\n",
    "\n",
    "# Settings\n",
    "from sklearn import set_config\n",
    "set_config(print_changed_only=False)"
   ]
  },
  {
   "cell_type": "markdown",
   "id": "92a95f7c",
   "metadata": {},
   "source": [
    "#### Get the data, explore it and process it for prediction Models"
   ]
  },
  {
   "cell_type": "code",
   "execution_count": 2,
   "id": "ebad1847",
   "metadata": {
    "scrolled": true
   },
   "outputs": [
    {
     "name": "stdout",
     "output_type": "stream",
     "text": [
      "(126, 7)\n"
     ]
    },
    {
     "data": {
      "text/html": [
       "<div>\n",
       "<style scoped>\n",
       "    .dataframe tbody tr th:only-of-type {\n",
       "        vertical-align: middle;\n",
       "    }\n",
       "\n",
       "    .dataframe tbody tr th {\n",
       "        vertical-align: top;\n",
       "    }\n",
       "\n",
       "    .dataframe thead th {\n",
       "        text-align: right;\n",
       "    }\n",
       "</style>\n",
       "<table border=\"1\" class=\"dataframe\">\n",
       "  <thead>\n",
       "    <tr style=\"text-align: right;\">\n",
       "      <th></th>\n",
       "      <th>Y</th>\n",
       "      <th>X1</th>\n",
       "      <th>X2</th>\n",
       "      <th>X3</th>\n",
       "      <th>X4</th>\n",
       "      <th>X5</th>\n",
       "      <th>X6</th>\n",
       "    </tr>\n",
       "  </thead>\n",
       "  <tbody>\n",
       "    <tr>\n",
       "      <th>0</th>\n",
       "      <td>0</td>\n",
       "      <td>3</td>\n",
       "      <td>3</td>\n",
       "      <td>3</td>\n",
       "      <td>4</td>\n",
       "      <td>2</td>\n",
       "      <td>4</td>\n",
       "    </tr>\n",
       "    <tr>\n",
       "      <th>1</th>\n",
       "      <td>0</td>\n",
       "      <td>3</td>\n",
       "      <td>2</td>\n",
       "      <td>3</td>\n",
       "      <td>5</td>\n",
       "      <td>4</td>\n",
       "      <td>3</td>\n",
       "    </tr>\n",
       "    <tr>\n",
       "      <th>2</th>\n",
       "      <td>1</td>\n",
       "      <td>5</td>\n",
       "      <td>3</td>\n",
       "      <td>3</td>\n",
       "      <td>3</td>\n",
       "      <td>3</td>\n",
       "      <td>5</td>\n",
       "    </tr>\n",
       "    <tr>\n",
       "      <th>3</th>\n",
       "      <td>0</td>\n",
       "      <td>5</td>\n",
       "      <td>4</td>\n",
       "      <td>3</td>\n",
       "      <td>3</td>\n",
       "      <td>3</td>\n",
       "      <td>5</td>\n",
       "    </tr>\n",
       "    <tr>\n",
       "      <th>4</th>\n",
       "      <td>0</td>\n",
       "      <td>5</td>\n",
       "      <td>4</td>\n",
       "      <td>3</td>\n",
       "      <td>3</td>\n",
       "      <td>3</td>\n",
       "      <td>5</td>\n",
       "    </tr>\n",
       "  </tbody>\n",
       "</table>\n",
       "</div>"
      ],
      "text/plain": [
       "   Y  X1  X2  X3  X4  X5  X6\n",
       "0  0   3   3   3   4   2   4\n",
       "1  0   3   2   3   5   4   3\n",
       "2  1   5   3   3   3   3   5\n",
       "3  0   5   4   3   3   3   5\n",
       "4  0   5   4   3   3   3   5"
      ]
     },
     "execution_count": 2,
     "metadata": {},
     "output_type": "execute_result"
    }
   ],
   "source": [
    "# Read in Dataset\n",
    "\n",
    "Dataset = pd.read_csv('C:\\\\Users\\\\Public\\\\ACME-HappinessSurvey2020.csv')\n",
    "\n",
    "print(Dataset.shape)\n",
    "Dataset.head(5)"
   ]
  },
  {
   "cell_type": "code",
   "execution_count": 3,
   "id": "2491e666",
   "metadata": {},
   "outputs": [
    {
     "data": {
      "text/html": [
       "<div>\n",
       "<style scoped>\n",
       "    .dataframe tbody tr th:only-of-type {\n",
       "        vertical-align: middle;\n",
       "    }\n",
       "\n",
       "    .dataframe tbody tr th {\n",
       "        vertical-align: top;\n",
       "    }\n",
       "\n",
       "    .dataframe thead th {\n",
       "        text-align: right;\n",
       "    }\n",
       "</style>\n",
       "<table border=\"1\" class=\"dataframe\">\n",
       "  <thead>\n",
       "    <tr style=\"text-align: right;\">\n",
       "      <th></th>\n",
       "      <th>Y</th>\n",
       "      <th>X1</th>\n",
       "      <th>X2</th>\n",
       "      <th>X3</th>\n",
       "      <th>X4</th>\n",
       "      <th>X5</th>\n",
       "      <th>X6</th>\n",
       "    </tr>\n",
       "  </thead>\n",
       "  <tbody>\n",
       "    <tr>\n",
       "      <th>count</th>\n",
       "      <td>126.00</td>\n",
       "      <td>126.00</td>\n",
       "      <td>126.00</td>\n",
       "      <td>126.00</td>\n",
       "      <td>126.00</td>\n",
       "      <td>126.00</td>\n",
       "      <td>126.00</td>\n",
       "    </tr>\n",
       "    <tr>\n",
       "      <th>mean</th>\n",
       "      <td>0.55</td>\n",
       "      <td>4.33</td>\n",
       "      <td>2.53</td>\n",
       "      <td>3.31</td>\n",
       "      <td>3.75</td>\n",
       "      <td>3.65</td>\n",
       "      <td>4.25</td>\n",
       "    </tr>\n",
       "    <tr>\n",
       "      <th>std</th>\n",
       "      <td>0.50</td>\n",
       "      <td>0.80</td>\n",
       "      <td>1.11</td>\n",
       "      <td>1.02</td>\n",
       "      <td>0.88</td>\n",
       "      <td>1.15</td>\n",
       "      <td>0.81</td>\n",
       "    </tr>\n",
       "    <tr>\n",
       "      <th>min</th>\n",
       "      <td>0.00</td>\n",
       "      <td>1.00</td>\n",
       "      <td>1.00</td>\n",
       "      <td>1.00</td>\n",
       "      <td>1.00</td>\n",
       "      <td>1.00</td>\n",
       "      <td>1.00</td>\n",
       "    </tr>\n",
       "    <tr>\n",
       "      <th>25%</th>\n",
       "      <td>0.00</td>\n",
       "      <td>4.00</td>\n",
       "      <td>2.00</td>\n",
       "      <td>3.00</td>\n",
       "      <td>3.00</td>\n",
       "      <td>3.00</td>\n",
       "      <td>4.00</td>\n",
       "    </tr>\n",
       "    <tr>\n",
       "      <th>50%</th>\n",
       "      <td>1.00</td>\n",
       "      <td>5.00</td>\n",
       "      <td>3.00</td>\n",
       "      <td>3.00</td>\n",
       "      <td>4.00</td>\n",
       "      <td>4.00</td>\n",
       "      <td>4.00</td>\n",
       "    </tr>\n",
       "    <tr>\n",
       "      <th>75%</th>\n",
       "      <td>1.00</td>\n",
       "      <td>5.00</td>\n",
       "      <td>3.00</td>\n",
       "      <td>4.00</td>\n",
       "      <td>4.00</td>\n",
       "      <td>4.00</td>\n",
       "      <td>5.00</td>\n",
       "    </tr>\n",
       "    <tr>\n",
       "      <th>max</th>\n",
       "      <td>1.00</td>\n",
       "      <td>5.00</td>\n",
       "      <td>5.00</td>\n",
       "      <td>5.00</td>\n",
       "      <td>5.00</td>\n",
       "      <td>5.00</td>\n",
       "      <td>5.00</td>\n",
       "    </tr>\n",
       "  </tbody>\n",
       "</table>\n",
       "</div>"
      ],
      "text/plain": [
       "           Y     X1     X2     X3     X4     X5     X6\n",
       "count 126.00 126.00 126.00 126.00 126.00 126.00 126.00\n",
       "mean    0.55   4.33   2.53   3.31   3.75   3.65   4.25\n",
       "std     0.50   0.80   1.11   1.02   0.88   1.15   0.81\n",
       "min     0.00   1.00   1.00   1.00   1.00   1.00   1.00\n",
       "25%     0.00   4.00   2.00   3.00   3.00   3.00   4.00\n",
       "50%     1.00   5.00   3.00   3.00   4.00   4.00   4.00\n",
       "75%     1.00   5.00   3.00   4.00   4.00   4.00   5.00\n",
       "max     1.00   5.00   5.00   5.00   5.00   5.00   5.00"
      ]
     },
     "execution_count": 3,
     "metadata": {},
     "output_type": "execute_result"
    }
   ],
   "source": [
    "Dataset.describe()"
   ]
  },
  {
   "cell_type": "code",
   "execution_count": 4,
   "id": "95eb9e92",
   "metadata": {},
   "outputs": [
    {
     "data": {
      "text/plain": [
       "<AxesSubplot:ylabel='Y'>"
      ]
     },
     "execution_count": 4,
     "metadata": {},
     "output_type": "execute_result"
    },
    {
     "data": {
      "image/png": "[encoded data removed]",
      "text/plain": [
       "<Figure size 640x480 with 1 Axes>"
      ]
     },
     "metadata": {},
     "output_type": "display_data"
    }
   ],
   "source": [
    "Dataset['Y'].value_counts().plot.pie(autopct='%1.1f%%')"
   ]
  },
  {
   "cell_type": "code",
   "execution_count": 5,
   "id": "4c36dce3",
   "metadata": {
    "scrolled": false
   },
   "outputs": [
    {
     "data": {
      "image/png": "[encoded data removed]",
      "text/plain": [
       "<Figure size 1558.88x1500 with 27 Axes>"
      ]
     },
     "metadata": {},
     "output_type": "display_data"
    }
   ],
   "source": [
    "sns.pairplot (Dataset, hue='Y', corner =True);"
   ]
  },
  {
   "cell_type": "code",
   "execution_count": 6,
   "id": "ff829098",
   "metadata": {},
   "outputs": [
    {
     "data": {
      "text/html": [
       "<div>\n",
       "<style scoped>\n",
       "    .dataframe tbody tr th:only-of-type {\n",
       "        vertical-align: middle;\n",
       "    }\n",
       "\n",
       "    .dataframe tbody tr th {\n",
       "        vertical-align: top;\n",
       "    }\n",
       "\n",
       "    .dataframe thead th {\n",
       "        text-align: right;\n",
       "    }\n",
       "</style>\n",
       "<table border=\"1\" class=\"dataframe\">\n",
       "  <thead>\n",
       "    <tr style=\"text-align: right;\">\n",
       "      <th></th>\n",
       "      <th>Y</th>\n",
       "      <th>X1</th>\n",
       "      <th>X2</th>\n",
       "      <th>X3</th>\n",
       "      <th>X4</th>\n",
       "      <th>X5</th>\n",
       "      <th>X6</th>\n",
       "    </tr>\n",
       "  </thead>\n",
       "  <tbody>\n",
       "    <tr>\n",
       "      <th>Y</th>\n",
       "      <td>1.00</td>\n",
       "      <td>0.28</td>\n",
       "      <td>-0.02</td>\n",
       "      <td>0.15</td>\n",
       "      <td>0.06</td>\n",
       "      <td>0.22</td>\n",
       "      <td>0.17</td>\n",
       "    </tr>\n",
       "    <tr>\n",
       "      <th>X1</th>\n",
       "      <td>0.28</td>\n",
       "      <td>1.00</td>\n",
       "      <td>0.06</td>\n",
       "      <td>0.28</td>\n",
       "      <td>0.09</td>\n",
       "      <td>0.43</td>\n",
       "      <td>0.41</td>\n",
       "    </tr>\n",
       "    <tr>\n",
       "      <th>X2</th>\n",
       "      <td>-0.02</td>\n",
       "      <td>0.06</td>\n",
       "      <td>1.00</td>\n",
       "      <td>0.18</td>\n",
       "      <td>0.11</td>\n",
       "      <td>0.04</td>\n",
       "      <td>-0.06</td>\n",
       "    </tr>\n",
       "    <tr>\n",
       "      <th>X3</th>\n",
       "      <td>0.15</td>\n",
       "      <td>0.28</td>\n",
       "      <td>0.18</td>\n",
       "      <td>1.00</td>\n",
       "      <td>0.30</td>\n",
       "      <td>0.36</td>\n",
       "      <td>0.20</td>\n",
       "    </tr>\n",
       "    <tr>\n",
       "      <th>X4</th>\n",
       "      <td>0.06</td>\n",
       "      <td>0.09</td>\n",
       "      <td>0.11</td>\n",
       "      <td>0.30</td>\n",
       "      <td>1.00</td>\n",
       "      <td>0.29</td>\n",
       "      <td>0.22</td>\n",
       "    </tr>\n",
       "    <tr>\n",
       "      <th>X5</th>\n",
       "      <td>0.22</td>\n",
       "      <td>0.43</td>\n",
       "      <td>0.04</td>\n",
       "      <td>0.36</td>\n",
       "      <td>0.29</td>\n",
       "      <td>1.00</td>\n",
       "      <td>0.32</td>\n",
       "    </tr>\n",
       "    <tr>\n",
       "      <th>X6</th>\n",
       "      <td>0.17</td>\n",
       "      <td>0.41</td>\n",
       "      <td>-0.06</td>\n",
       "      <td>0.20</td>\n",
       "      <td>0.22</td>\n",
       "      <td>0.32</td>\n",
       "      <td>1.00</td>\n",
       "    </tr>\n",
       "  </tbody>\n",
       "</table>\n",
       "</div>"
      ],
      "text/plain": [
       "       Y   X1    X2   X3   X4   X5    X6\n",
       "Y   1.00 0.28 -0.02 0.15 0.06 0.22  0.17\n",
       "X1  0.28 1.00  0.06 0.28 0.09 0.43  0.41\n",
       "X2 -0.02 0.06  1.00 0.18 0.11 0.04 -0.06\n",
       "X3  0.15 0.28  0.18 1.00 0.30 0.36  0.20\n",
       "X4  0.06 0.09  0.11 0.30 1.00 0.29  0.22\n",
       "X5  0.22 0.43  0.04 0.36 0.29 1.00  0.32\n",
       "X6  0.17 0.41 -0.06 0.20 0.22 0.32  1.00"
      ]
     },
     "execution_count": 6,
     "metadata": {},
     "output_type": "execute_result"
    }
   ],
   "source": [
    "# Correlation (For selecting the most correlated feature to the target)\n",
    "\n",
    "Dataset.corr()"
   ]
  },
  {
   "cell_type": "code",
   "execution_count": 7,
   "id": "aae88f90",
   "metadata": {},
   "outputs": [
    {
     "data": {
      "image/png": "[encoded data removed]",
      "text/plain": [
       "<Figure size 640x480 with 2 Axes>"
      ]
     },
     "metadata": {},
     "output_type": "display_data"
    }
   ],
   "source": [
    "cor = Dataset.corr()\n",
    "sns.heatmap(cor, annot=True, cmap=plt.cm.binary)\n",
    "plt.show()"
   ]
  },
  {
   "cell_type": "code",
   "execution_count": 8,
   "id": "c8a0c051",
   "metadata": {
    "scrolled": true
   },
   "outputs": [
    {
     "name": "stdout",
     "output_type": "stream",
     "text": [
      "Y     1.00\n",
      "X1    0.28\n",
      "X5    0.22\n",
      "X6    0.17\n",
      "X3    0.15\n",
      "X4    0.06\n",
      "X2   -0.02\n",
      "Name: Y, dtype: float64\n"
     ]
    }
   ],
   "source": [
    "# Check how correlated each feature is to the target \n",
    "\n",
    "print(cor['Y'].sort_values(ascending=False))"
   ]
  },
  {
   "cell_type": "markdown",
   "id": "bba6114f",
   "metadata": {},
   "source": [
    "## Observations from exploring the dataset\n",
    "\n",
    "It shows that the ratings from customers for 'contents of my order was as I expected' (X2) and  'I paid a good price for my order' (X4) are the least correlated features to determine wheather the customers are happy or not. While 'my order was delivered on time' (X1) and ' I am satisfied with my courier' (X5) had the strongest correlation to the target attribute 'Y'\n",
    "\n",
    "From our pairplot it shows that 'I ordered everything I wanted to order' (X3) didn't have direct impact on the happiness of the customers.\n",
    "\n",
    "Also, the heatmap shows the X1, X5 and X6 are strongly correlated to each other."
   ]
  },
  {
   "cell_type": "code",
   "execution_count": 9,
   "id": "893a06a8",
   "metadata": {},
   "outputs": [
    {
     "data": {
      "text/plain": [
       "0      0\n",
       "1      0\n",
       "2      1\n",
       "3      0\n",
       "4      0\n",
       "      ..\n",
       "121    1\n",
       "122    1\n",
       "123    1\n",
       "124    0\n",
       "125    0\n",
       "Name: Y, Length: 126, dtype: int64"
      ]
     },
     "execution_count": 9,
     "metadata": {},
     "output_type": "execute_result"
    }
   ],
   "source": [
    "# Define Targets\n",
    "\n",
    "y = Dataset ['Y']\n",
    "y"
   ]
  },
  {
   "cell_type": "code",
   "execution_count": 10,
   "id": "df0ffb8e",
   "metadata": {
    "scrolled": true
   },
   "outputs": [
    {
     "data": {
      "text/html": [
       "<div>\n",
       "<style scoped>\n",
       "    .dataframe tbody tr th:only-of-type {\n",
       "        vertical-align: middle;\n",
       "    }\n",
       "\n",
       "    .dataframe tbody tr th {\n",
       "        vertical-align: top;\n",
       "    }\n",
       "\n",
       "    .dataframe thead th {\n",
       "        text-align: right;\n",
       "    }\n",
       "</style>\n",
       "<table border=\"1\" class=\"dataframe\">\n",
       "  <thead>\n",
       "    <tr style=\"text-align: right;\">\n",
       "      <th></th>\n",
       "      <th>X1</th>\n",
       "      <th>X2</th>\n",
       "      <th>X3</th>\n",
       "      <th>X4</th>\n",
       "      <th>X5</th>\n",
       "      <th>X6</th>\n",
       "    </tr>\n",
       "  </thead>\n",
       "  <tbody>\n",
       "    <tr>\n",
       "      <th>0</th>\n",
       "      <td>3</td>\n",
       "      <td>3</td>\n",
       "      <td>3</td>\n",
       "      <td>4</td>\n",
       "      <td>2</td>\n",
       "      <td>4</td>\n",
       "    </tr>\n",
       "    <tr>\n",
       "      <th>1</th>\n",
       "      <td>3</td>\n",
       "      <td>2</td>\n",
       "      <td>3</td>\n",
       "      <td>5</td>\n",
       "      <td>4</td>\n",
       "      <td>3</td>\n",
       "    </tr>\n",
       "    <tr>\n",
       "      <th>2</th>\n",
       "      <td>5</td>\n",
       "      <td>3</td>\n",
       "      <td>3</td>\n",
       "      <td>3</td>\n",
       "      <td>3</td>\n",
       "      <td>5</td>\n",
       "    </tr>\n",
       "    <tr>\n",
       "      <th>3</th>\n",
       "      <td>5</td>\n",
       "      <td>4</td>\n",
       "      <td>3</td>\n",
       "      <td>3</td>\n",
       "      <td>3</td>\n",
       "      <td>5</td>\n",
       "    </tr>\n",
       "    <tr>\n",
       "      <th>4</th>\n",
       "      <td>5</td>\n",
       "      <td>4</td>\n",
       "      <td>3</td>\n",
       "      <td>3</td>\n",
       "      <td>3</td>\n",
       "      <td>5</td>\n",
       "    </tr>\n",
       "    <tr>\n",
       "      <th>...</th>\n",
       "      <td>...</td>\n",
       "      <td>...</td>\n",
       "      <td>...</td>\n",
       "      <td>...</td>\n",
       "      <td>...</td>\n",
       "      <td>...</td>\n",
       "    </tr>\n",
       "    <tr>\n",
       "      <th>121</th>\n",
       "      <td>5</td>\n",
       "      <td>2</td>\n",
       "      <td>3</td>\n",
       "      <td>4</td>\n",
       "      <td>4</td>\n",
       "      <td>3</td>\n",
       "    </tr>\n",
       "    <tr>\n",
       "      <th>122</th>\n",
       "      <td>5</td>\n",
       "      <td>2</td>\n",
       "      <td>3</td>\n",
       "      <td>4</td>\n",
       "      <td>2</td>\n",
       "      <td>5</td>\n",
       "    </tr>\n",
       "    <tr>\n",
       "      <th>123</th>\n",
       "      <td>5</td>\n",
       "      <td>3</td>\n",
       "      <td>3</td>\n",
       "      <td>4</td>\n",
       "      <td>4</td>\n",
       "      <td>5</td>\n",
       "    </tr>\n",
       "    <tr>\n",
       "      <th>124</th>\n",
       "      <td>4</td>\n",
       "      <td>3</td>\n",
       "      <td>3</td>\n",
       "      <td>4</td>\n",
       "      <td>4</td>\n",
       "      <td>5</td>\n",
       "    </tr>\n",
       "    <tr>\n",
       "      <th>125</th>\n",
       "      <td>5</td>\n",
       "      <td>3</td>\n",
       "      <td>2</td>\n",
       "      <td>5</td>\n",
       "      <td>5</td>\n",
       "      <td>5</td>\n",
       "    </tr>\n",
       "  </tbody>\n",
       "</table>\n",
       "<p>126 rows × 6 columns</p>\n",
       "</div>"
      ],
      "text/plain": [
       "     X1  X2  X3  X4  X5  X6\n",
       "0     3   3   3   4   2   4\n",
       "1     3   2   3   5   4   3\n",
       "2     5   3   3   3   3   5\n",
       "3     5   4   3   3   3   5\n",
       "4     5   4   3   3   3   5\n",
       "..   ..  ..  ..  ..  ..  ..\n",
       "121   5   2   3   4   4   3\n",
       "122   5   2   3   4   2   5\n",
       "123   5   3   3   4   4   5\n",
       "124   4   3   3   4   4   5\n",
       "125   5   3   2   5   5   5\n",
       "\n",
       "[126 rows x 6 columns]"
      ]
     },
     "execution_count": 10,
     "metadata": {},
     "output_type": "execute_result"
    }
   ],
   "source": [
    "# Define Features\n",
    "\n",
    "X = Dataset.drop('Y', axis=1)\n",
    "X"
   ]
  },
  {
   "cell_type": "code",
   "execution_count": 21,
   "id": "0a8f68f9",
   "metadata": {},
   "outputs": [
    {
     "data": {
      "text/plain": [
       "X1   0.06\n",
       "X6   0.04\n",
       "X5   0.03\n",
       "X4   0.02\n",
       "X3   0.02\n",
       "X2   0.01\n",
       "Name: MI Scores, dtype: float64"
      ]
     },
     "execution_count": 21,
     "metadata": {},
     "output_type": "execute_result"
    }
   ],
   "source": [
    "# using mutual_info_classif for classification problem MI\n",
    "\n",
    "from sklearn.feature_selection import mutual_info_classif\n",
    "\n",
    "mi_scores = mutual_info_classif(X, y, discrete_features=np.arange(1,6,1), \n",
    "                                n_neighbors=3, copy=True, random_state=42)\n",
    "mi_scores = pd.Series(mi_scores, name= 'MI Scores', index=X.columns)\n",
    "mi_scores = mi_scores.sort_values(ascending=False)\n",
    "\n",
    "mi_scores"
   ]
  },
  {
   "cell_type": "markdown",
   "id": "67b9705b",
   "metadata": {},
   "source": [
    "### Observation: \n",
    "X2, X3, and X4 have the lowest dependecies to Y, also their correlation to Y are also low.\n",
    "Features to drop would be X2 and X4. While X3 would still be remain as it has a higher correlation relatively.\n",
    "This is because they were the least important features for optimizing the model. Hence they would be dropped. "
   ]
  },
  {
   "cell_type": "code",
   "execution_count": 22,
   "id": "0eb7e8b8",
   "metadata": {},
   "outputs": [
    {
     "data": {
      "text/html": [
       "<div>\n",
       "<style scoped>\n",
       "    .dataframe tbody tr th:only-of-type {\n",
       "        vertical-align: middle;\n",
       "    }\n",
       "\n",
       "    .dataframe tbody tr th {\n",
       "        vertical-align: top;\n",
       "    }\n",
       "\n",
       "    .dataframe thead th {\n",
       "        text-align: right;\n",
       "    }\n",
       "</style>\n",
       "<table border=\"1\" class=\"dataframe\">\n",
       "  <thead>\n",
       "    <tr style=\"text-align: right;\">\n",
       "      <th></th>\n",
       "      <th>X1</th>\n",
       "      <th>X3</th>\n",
       "      <th>X5</th>\n",
       "      <th>X6</th>\n",
       "    </tr>\n",
       "  </thead>\n",
       "  <tbody>\n",
       "    <tr>\n",
       "      <th>0</th>\n",
       "      <td>3</td>\n",
       "      <td>3</td>\n",
       "      <td>2</td>\n",
       "      <td>4</td>\n",
       "    </tr>\n",
       "    <tr>\n",
       "      <th>1</th>\n",
       "      <td>3</td>\n",
       "      <td>3</td>\n",
       "      <td>4</td>\n",
       "      <td>3</td>\n",
       "    </tr>\n",
       "    <tr>\n",
       "      <th>2</th>\n",
       "      <td>5</td>\n",
       "      <td>3</td>\n",
       "      <td>3</td>\n",
       "      <td>5</td>\n",
       "    </tr>\n",
       "    <tr>\n",
       "      <th>3</th>\n",
       "      <td>5</td>\n",
       "      <td>3</td>\n",
       "      <td>3</td>\n",
       "      <td>5</td>\n",
       "    </tr>\n",
       "    <tr>\n",
       "      <th>4</th>\n",
       "      <td>5</td>\n",
       "      <td>3</td>\n",
       "      <td>3</td>\n",
       "      <td>5</td>\n",
       "    </tr>\n",
       "    <tr>\n",
       "      <th>...</th>\n",
       "      <td>...</td>\n",
       "      <td>...</td>\n",
       "      <td>...</td>\n",
       "      <td>...</td>\n",
       "    </tr>\n",
       "    <tr>\n",
       "      <th>121</th>\n",
       "      <td>5</td>\n",
       "      <td>3</td>\n",
       "      <td>4</td>\n",
       "      <td>3</td>\n",
       "    </tr>\n",
       "    <tr>\n",
       "      <th>122</th>\n",
       "      <td>5</td>\n",
       "      <td>3</td>\n",
       "      <td>2</td>\n",
       "      <td>5</td>\n",
       "    </tr>\n",
       "    <tr>\n",
       "      <th>123</th>\n",
       "      <td>5</td>\n",
       "      <td>3</td>\n",
       "      <td>4</td>\n",
       "      <td>5</td>\n",
       "    </tr>\n",
       "    <tr>\n",
       "      <th>124</th>\n",
       "      <td>4</td>\n",
       "      <td>3</td>\n",
       "      <td>4</td>\n",
       "      <td>5</td>\n",
       "    </tr>\n",
       "    <tr>\n",
       "      <th>125</th>\n",
       "      <td>5</td>\n",
       "      <td>2</td>\n",
       "      <td>5</td>\n",
       "      <td>5</td>\n",
       "    </tr>\n",
       "  </tbody>\n",
       "</table>\n",
       "<p>126 rows × 4 columns</p>\n",
       "</div>"
      ],
      "text/plain": [
       "     X1  X3  X5  X6\n",
       "0     3   3   2   4\n",
       "1     3   3   4   3\n",
       "2     5   3   3   5\n",
       "3     5   3   3   5\n",
       "4     5   3   3   5\n",
       "..   ..  ..  ..  ..\n",
       "121   5   3   4   3\n",
       "122   5   3   2   5\n",
       "123   5   3   4   5\n",
       "124   4   3   4   5\n",
       "125   5   2   5   5\n",
       "\n",
       "[126 rows x 4 columns]"
      ]
     },
     "execution_count": 22,
     "metadata": {},
     "output_type": "execute_result"
    }
   ],
   "source": [
    "# drop X2 and X4\n",
    "\n",
    "X = X.drop(['X2', 'X4'], axis=1)\n",
    "X"
   ]
  },
  {
   "cell_type": "markdown",
   "id": "f7f00f26",
   "metadata": {},
   "source": [
    "### Scale the Dataset\n",
    "The dataset would be scaled for two reasons; to reduce it magnitude and prediction models run better with smaller numbers between 0 and 1"
   ]
  },
  {
   "cell_type": "code",
   "execution_count": 23,
   "id": "d177867f",
   "metadata": {},
   "outputs": [
    {
     "data": {
      "text/plain": [
       "array([[-1.67332005, -0.30364219, -1.44416589, -0.31506076],\n",
       "       [-1.67332005, -0.30364219,  0.30549663, -1.55561249],\n",
       "       [ 0.83666003, -0.30364219, -0.56933463,  0.92549097],\n",
       "       [ 0.83666003, -0.30364219, -0.56933463,  0.92549097],\n",
       "       [ 0.83666003, -0.30364219, -0.56933463,  0.92549097],\n",
       "       [ 0.83666003, -0.30364219,  1.18032789,  0.92549097],\n",
       "       [-1.67332005, -1.28464005, -2.31899715, -1.55561249],\n",
       "       [ 0.83666003,  0.67735566,  0.30549663,  0.92549097],\n",
       "       [-0.41833001,  0.67735566,  0.30549663, -0.31506076],\n",
       "       [-0.41833001,  0.67735566,  1.18032789,  0.92549097],\n",
       "       [-1.67332005, -0.30364219, -1.44416589, -1.55561249],\n",
       "       [-0.41833001, -0.30364219,  0.30549663, -0.31506076],\n",
       "       [ 0.83666003,  0.67735566,  1.18032789,  0.92549097],\n",
       "       [-0.41833001,  0.67735566,  0.30549663, -1.55561249],\n",
       "       [-0.41833001, -0.30364219,  0.30549663, -1.55561249],\n",
       "       [-1.67332005,  0.67735566,  0.30549663, -0.31506076],\n",
       "       [ 0.83666003,  0.67735566,  0.30549663,  0.92549097],\n",
       "       [ 0.83666003,  0.67735566,  0.30549663,  0.92549097],\n",
       "       [ 0.83666003, -1.28464005,  0.30549663,  0.92549097],\n",
       "       [-0.41833001,  0.67735566,  0.30549663, -0.31506076],\n",
       "       [-0.41833001, -0.30364219,  0.30549663, -0.31506076],\n",
       "       [-0.41833001,  1.65835352,  1.18032789, -0.31506076],\n",
       "       [-0.41833001,  1.65835352,  1.18032789, -0.31506076],\n",
       "       [ 0.83666003, -1.28464005, -1.44416589, -0.31506076],\n",
       "       [-0.41833001, -0.30364219, -0.56933463, -0.31506076],\n",
       "       [-1.67332005, -0.30364219, -1.44416589, -1.55561249],\n",
       "       [-1.67332005, -0.30364219,  1.18032789,  0.92549097],\n",
       "       [-1.67332005, -2.2656379 , -0.56933463, -0.31506076],\n",
       "       [-1.67332005, -2.2656379 , -0.56933463, -0.31506076],\n",
       "       [ 0.83666003, -0.30364219,  1.18032789, -1.55561249],\n",
       "       [ 0.83666003, -0.30364219,  1.18032789, -1.55561249],\n",
       "       [-0.41833001, -0.30364219,  0.30549663,  0.92549097],\n",
       "       [-1.67332005,  0.67735566,  0.30549663,  0.92549097],\n",
       "       [-1.67332005,  0.67735566,  0.30549663,  0.92549097],\n",
       "       [-0.41833001, -0.30364219, -2.31899715, -0.31506076],\n",
       "       [-0.41833001, -0.30364219,  0.30549663, -0.31506076],\n",
       "       [ 0.83666003,  0.67735566,  0.30549663,  0.92549097],\n",
       "       [ 0.83666003,  0.67735566,  0.30549663,  0.92549097],\n",
       "       [ 0.83666003, -0.30364219, -1.44416589,  0.92549097],\n",
       "       [-0.41833001, -0.30364219, -1.44416589, -0.31506076],\n",
       "       [ 0.83666003, -0.30364219, -0.56933463, -1.55561249],\n",
       "       [-0.41833001,  0.67735566, -1.44416589, -0.31506076],\n",
       "       [ 0.83666003, -0.30364219,  0.30549663,  0.92549097],\n",
       "       [-0.41833001, -0.30364219, -1.44416589, -0.31506076],\n",
       "       [-1.67332005, -1.28464005, -0.56933463,  0.92549097],\n",
       "       [ 0.83666003,  0.67735566,  0.30549663,  0.92549097],\n",
       "       [ 0.83666003, -0.30364219,  0.30549663,  0.92549097],\n",
       "       [-4.18330013, -2.2656379 , -2.31899715, -0.31506076],\n",
       "       [ 0.83666003,  1.65835352,  1.18032789, -1.55561249],\n",
       "       [ 0.83666003, -0.30364219,  0.30549663, -0.31506076],\n",
       "       [ 0.83666003, -0.30364219,  0.30549663, -0.31506076],\n",
       "       [ 0.83666003, -0.30364219,  0.30549663, -0.31506076],\n",
       "       [ 0.83666003,  0.67735566,  0.30549663,  0.92549097],\n",
       "       [ 0.83666003,  0.67735566,  0.30549663,  0.92549097],\n",
       "       [-0.41833001, -1.28464005, -0.56933463, -0.31506076],\n",
       "       [-0.41833001, -1.28464005, -0.56933463, -0.31506076],\n",
       "       [ 0.83666003, -2.2656379 , -0.56933463,  0.92549097],\n",
       "       [-0.41833001,  0.67735566, -0.56933463, -0.31506076],\n",
       "       [ 0.83666003,  1.65835352,  0.30549663,  0.92549097],\n",
       "       [ 0.83666003,  0.67735566, -1.44416589, -0.31506076],\n",
       "       [-0.41833001, -0.30364219, -0.56933463,  0.92549097],\n",
       "       [ 0.83666003,  0.67735566,  1.18032789,  0.92549097],\n",
       "       [ 0.83666003,  0.67735566,  1.18032789,  0.92549097],\n",
       "       [ 0.83666003,  1.65835352,  1.18032789,  0.92549097],\n",
       "       [-0.41833001, -0.30364219,  0.30549663, -0.31506076],\n",
       "       [-0.41833001, -0.30364219,  0.30549663, -0.31506076],\n",
       "       [-1.67332005, -0.30364219,  0.30549663, -1.55561249],\n",
       "       [-0.41833001, -2.2656379 ,  0.30549663, -0.31506076],\n",
       "       [ 0.83666003,  1.65835352,  1.18032789,  0.92549097],\n",
       "       [ 0.83666003,  1.65835352,  1.18032789,  0.92549097],\n",
       "       [-0.41833001, -0.30364219, -0.56933463, -0.31506076],\n",
       "       [-0.41833001,  1.65835352, -2.31899715, -1.55561249],\n",
       "       [-0.41833001, -0.30364219, -1.44416589, -0.31506076],\n",
       "       [ 0.83666003, -0.30364219, -1.44416589,  0.92549097],\n",
       "       [ 0.83666003,  1.65835352,  1.18032789,  0.92549097],\n",
       "       [-1.67332005, -0.30364219,  0.30549663, -0.31506076],\n",
       "       [-0.41833001, -1.28464005, -1.44416589, -0.31506076],\n",
       "       [ 0.83666003, -0.30364219,  1.18032789,  0.92549097],\n",
       "       [ 0.83666003, -0.30364219, -1.44416589,  0.92549097],\n",
       "       [ 0.83666003,  1.65835352,  1.18032789,  0.92549097],\n",
       "       [-0.41833001, -1.28464005,  0.30549663, -0.31506076],\n",
       "       [-1.67332005, -0.30364219, -0.56933463, -0.31506076],\n",
       "       [-0.41833001,  0.67735566,  0.30549663, -0.31506076],\n",
       "       [ 0.83666003, -1.28464005,  0.30549663, -0.31506076],\n",
       "       [-0.41833001,  0.67735566, -1.44416589, -0.31506076],\n",
       "       [ 0.83666003, -0.30364219,  0.30549663,  0.92549097],\n",
       "       [ 0.83666003, -0.30364219,  1.18032789,  0.92549097],\n",
       "       [-0.41833001, -0.30364219,  0.30549663, -1.55561249],\n",
       "       [ 0.83666003, -1.28464005, -0.56933463,  0.92549097],\n",
       "       [-1.67332005, -2.2656379 , -1.44416589, -1.55561249],\n",
       "       [-1.67332005,  1.65835352,  1.18032789, -0.31506076],\n",
       "       [ 0.83666003, -0.30364219,  1.18032789,  0.92549097],\n",
       "       [ 0.83666003,  1.65835352,  1.18032789, -0.31506076],\n",
       "       [ 0.83666003,  0.67735566,  0.30549663,  0.92549097],\n",
       "       [-1.67332005, -0.30364219, -2.31899715, -2.79616421],\n",
       "       [ 0.83666003,  1.65835352,  1.18032789,  0.92549097],\n",
       "       [-0.41833001, -0.30364219, -0.56933463, -1.55561249],\n",
       "       [ 0.83666003,  1.65835352,  1.18032789, -0.31506076],\n",
       "       [-0.41833001, -0.30364219, -0.56933463, -1.55561249],\n",
       "       [-1.67332005, -1.28464005,  0.30549663, -0.31506076],\n",
       "       [ 0.83666003, -1.28464005,  1.18032789,  0.92549097],\n",
       "       [ 0.83666003,  0.67735566,  0.30549663, -1.55561249],\n",
       "       [ 0.83666003, -0.30364219, -0.56933463,  0.92549097],\n",
       "       [-0.41833001,  0.67735566, -0.56933463, -0.31506076],\n",
       "       [-0.41833001, -0.30364219, -0.56933463,  0.92549097],\n",
       "       [ 0.83666003,  0.67735566,  1.18032789,  0.92549097],\n",
       "       [ 0.83666003,  1.65835352,  1.18032789,  0.92549097],\n",
       "       [-0.41833001,  0.67735566,  0.30549663, -0.31506076],\n",
       "       [ 0.83666003,  0.67735566,  1.18032789,  0.92549097],\n",
       "       [ 0.83666003,  0.67735566,  0.30549663, -0.31506076],\n",
       "       [ 0.83666003, -0.30364219,  0.30549663,  0.92549097],\n",
       "       [ 0.83666003, -0.30364219,  0.30549663, -0.31506076],\n",
       "       [-0.41833001, -0.30364219, -0.56933463, -0.31506076],\n",
       "       [ 0.83666003,  0.67735566,  0.30549663,  0.92549097],\n",
       "       [ 0.83666003, -1.28464005,  0.30549663,  0.92549097],\n",
       "       [ 0.83666003,  1.65835352,  1.18032789,  0.92549097],\n",
       "       [-1.67332005,  0.67735566, -2.31899715, -1.55561249],\n",
       "       [ 0.83666003,  1.65835352,  1.18032789,  0.92549097],\n",
       "       [-0.41833001, -0.30364219,  0.30549663, -0.31506076],\n",
       "       [ 0.83666003, -2.2656379 ,  1.18032789, -4.03671594],\n",
       "       [-0.41833001,  0.67735566, -2.31899715, -1.55561249],\n",
       "       [ 0.83666003, -0.30364219,  0.30549663, -1.55561249],\n",
       "       [ 0.83666003, -0.30364219, -1.44416589,  0.92549097],\n",
       "       [ 0.83666003, -0.30364219,  0.30549663,  0.92549097],\n",
       "       [-0.41833001, -0.30364219,  0.30549663,  0.92549097],\n",
       "       [ 0.83666003, -1.28464005,  1.18032789,  0.92549097]])"
      ]
     },
     "execution_count": 23,
     "metadata": {},
     "output_type": "execute_result"
    }
   ],
   "source": [
    "scalar = StandardScaler()\n",
    "Scaled_data = scalar.fit_transform(X)\n",
    "Scaled_data"
   ]
  },
  {
   "cell_type": "markdown",
   "id": "bc8cae94",
   "metadata": {},
   "source": [
    "### Split Dataset into Training and Test/Validation Set (80/20)"
   ]
  },
  {
   "cell_type": "code",
   "execution_count": 24,
   "id": "8bac34c2",
   "metadata": {},
   "outputs": [],
   "source": [
    "X_train, X_test, y_train, y_test = train_test_split(X, y, test_size=0.2, random_state=42)"
   ]
  },
  {
   "cell_type": "markdown",
   "id": "e8503fcc",
   "metadata": {},
   "source": [
    "### Model Selection:\n",
    "\n",
    "Here, six classifiers that work well on structured data for binary classification would be used. This will help us understand which model(s) work better without any parameter tuning.\n",
    "\n",
    "Afterwards, the best performing models would be selected and their parameters tuned for a better performance"
   ]
  },
  {
   "cell_type": "code",
   "execution_count": 25,
   "id": "36a12951",
   "metadata": {},
   "outputs": [
    {
     "name": "stdout",
     "output_type": "stream",
     "text": [
      "Model Accuracy for DecisionTreeClassifier : 0.6538461538461539 \n",
      "               precision    recall  f1-score   support\n",
      "\n",
      "           0       0.75      0.60      0.67        15\n",
      "           1       0.57      0.73      0.64        11\n",
      "\n",
      "    accuracy                           0.65        26\n",
      "   macro avg       0.66      0.66      0.65        26\n",
      "weighted avg       0.67      0.65      0.66        26\n",
      " \n",
      " Confusion Matrix : \n",
      " [[9 6]\n",
      " [3 8]]\n",
      "Model Accuracy for RandomForestClassifier : 0.6538461538461539 \n",
      "               precision    recall  f1-score   support\n",
      "\n",
      "           0       0.75      0.60      0.67        15\n",
      "           1       0.57      0.73      0.64        11\n",
      "\n",
      "    accuracy                           0.65        26\n",
      "   macro avg       0.66      0.66      0.65        26\n",
      "weighted avg       0.67      0.65      0.66        26\n",
      " \n",
      " Confusion Matrix : \n",
      " [[9 6]\n",
      " [3 8]]\n",
      "Model Accuracy for XGBClassifier : 0.6923076923076923 \n",
      "               precision    recall  f1-score   support\n",
      "\n",
      "           0       0.82      0.60      0.69        15\n",
      "           1       0.60      0.82      0.69        11\n",
      "\n",
      "    accuracy                           0.69        26\n",
      "   macro avg       0.71      0.71      0.69        26\n",
      "weighted avg       0.73      0.69      0.69        26\n",
      " \n",
      " Confusion Matrix : \n",
      " [[9 6]\n",
      " [2 9]]\n"
     ]
    }
   ],
   "source": [
    "DTC = DecisionTreeClassifier()\n",
    "RDF = RandomForestClassifier()\n",
    "XGB = XGBClassifier()\n",
    "\n",
    "DTC.fit(X_train, y_train)\n",
    "RDF.fit(X_train, y_train)\n",
    "XGB.fit(X_train, y_train)\n",
    "\n",
    "pred_DTC = DTC.predict(X_test)\n",
    "pred_RDF = RDF.predict(X_test)\n",
    "pred_XGB = XGB.predict(X_test)\n",
    "\n",
    "print('Model Accuracy for DecisionTreeClassifier :', accuracy_score(y_test, pred_DTC),'\\n', classification_report(y_test, pred_DTC),\n",
    "      '\\n', 'Confusion Matrix :', '\\n', confusion_matrix (y_test, pred_DTC))\n",
    "print('Model Accuracy for RandomForestClassifier :', accuracy_score(y_test, pred_RDF),'\\n', classification_report(y_test, pred_RDF),\n",
    "      '\\n', 'Confusion Matrix :', '\\n', confusion_matrix (y_test, pred_RDF))\n",
    "print('Model Accuracy for XGBClassifier :', accuracy_score(y_test, pred_XGB),'\\n', classification_report(y_test, pred_XGB),\n",
    "      '\\n', 'Confusion Matrix :', '\\n', confusion_matrix (y_test, pred_XGB))"
   ]
  },
  {
   "cell_type": "markdown",
   "id": "57f97233-03b5-434f-a0c1-392646a1a0ee",
   "metadata": {},
   "source": [
    "### Hyperparameter turning:\n",
    "\n",
    "The best three models would be selected and optimized using the GridsearchCV to determine the best parameters to use for a particular model. The optimal parameter and important features would be apply to the model afterwards.\n",
    "Also, we can select the best parameter based on processing times.\n",
    "\n",
    "#### Models to optimize are:\n",
    "1. DecisionTreeClassifier\n",
    "2. XGBClassifier\n",
    "3. RandomForestClassifier"
   ]
  },
  {
   "cell_type": "markdown",
   "id": "8f8f94c3",
   "metadata": {},
   "source": [
    "### Hyperparameter turning DecisionTreeClassifier"
   ]
  },
  {
   "cell_type": "code",
   "execution_count": 26,
   "id": "bae59e7a-b627-47da-9774-efe7d102da11",
   "metadata": {},
   "outputs": [],
   "source": [
    "parameters = {'max_features': ['auto', 'sqrt', 'log2'],\n",
    "              'ccp_alpha': [0.1, .01, .001],\n",
    "              'max_depth' : [5, 6, 7, 8, 9],\n",
    "              'criterion' :['gini', 'entropy']\n",
    "             }\n",
    "     \n",
    "grid_search = GridSearchCV(DTC, param_grid= parameters, cv=5 )\n",
    "\n",
    "grid_search = grid_search.fit(X_train, y_train)"
   ]
  },
  {
   "cell_type": "code",
   "execution_count": 27,
   "id": "87c8ad54-aca9-4fb3-9c2b-ead0f2fa1d3f",
   "metadata": {},
   "outputs": [
    {
     "data": {
      "text/plain": [
       "0.72"
      ]
     },
     "execution_count": 27,
     "metadata": {},
     "output_type": "execute_result"
    }
   ],
   "source": [
    "accuracy_DTC = grid_search.best_score_\n",
    "accuracy_DTC"
   ]
  },
  {
   "cell_type": "code",
   "execution_count": 28,
   "id": "6382a887",
   "metadata": {},
   "outputs": [
    {
     "data": {
      "text/plain": [
       "{'ccp_alpha': 0.01,\n",
       " 'criterion': 'gini',\n",
       " 'max_depth': 5,\n",
       " 'max_features': 'auto'}"
      ]
     },
     "execution_count": 28,
     "metadata": {},
     "output_type": "execute_result"
    }
   ],
   "source": [
    "# Best parameters\n",
    "\n",
    "grid_search.best_params_"
   ]
  },
  {
   "cell_type": "code",
   "execution_count": 31,
   "id": "681b8ad8",
   "metadata": {},
   "outputs": [
    {
     "name": "stdout",
     "output_type": "stream",
     "text": [
      "Model Accuracy for RandomForestClassifier : 0.46153846153846156 \n",
      "               precision    recall  f1-score   support\n",
      "\n",
      "           0       0.67      0.13      0.22        15\n",
      "           1       0.43      0.91      0.59        11\n",
      "\n",
      "    accuracy                           0.46        26\n",
      "   macro avg       0.55      0.52      0.41        26\n",
      "weighted avg       0.57      0.46      0.38        26\n",
      " \n",
      " Confusion Matrix : \n",
      " [[ 2 13]\n",
      " [ 1 10]]\n"
     ]
    }
   ],
   "source": [
    "# Using the best parameters to optimize the model\n",
    "\n",
    "DTC_2 = DecisionTreeClassifier(ccp_alpha= 0.01, criterion= 'gini',max_depth= 5, max_features= 'auto')\n",
    "\n",
    "DTC_2.fit(X_train, y_train)\n",
    "\n",
    "pred_DTC_2 = DTC_2.predict(X_test)\n",
    "\n",
    "print('Model Accuracy for RandomForestClassifier :', accuracy_score(y_test, pred_DTC_2),'\\n', \n",
    "      classification_report(y_test, pred_DTC_2), '\\n', 'Confusion Matrix :', '\\n', confusion_matrix (y_test, pred_DTC_2))"
   ]
  },
  {
   "cell_type": "markdown",
   "id": "720a6741",
   "metadata": {},
   "source": [
    "### Hyperparameter turning RandonForestClassifier\n"
   ]
  },
  {
   "cell_type": "code",
   "execution_count": 46,
   "id": "a4633532",
   "metadata": {},
   "outputs": [],
   "source": [
    "parameters2 = [{'max_features': np.arange(1,6,1) , 'n_estimators' : np.arange(10,110,10)}]\n",
    "\n",
    "grid_search2 = GridSearchCV(RDF, param_grid= parameters2, cv= 5)\n",
    "\n",
    "grid_search2 = grid_search2.fit(X_train, y_train)"
   ]
  },
  {
   "cell_type": "code",
   "execution_count": 50,
   "id": "e55c0af4",
   "metadata": {},
   "outputs": [
    {
     "data": {
      "text/plain": [
       "0.6699999999999999"
      ]
     },
     "execution_count": 50,
     "metadata": {},
     "output_type": "execute_result"
    }
   ],
   "source": [
    "accuracy_RDF = grid_search2.best_score_\n",
    "accuracy_RDF"
   ]
  },
  {
   "cell_type": "code",
   "execution_count": 48,
   "id": "b4463e5a",
   "metadata": {},
   "outputs": [
    {
     "data": {
      "text/plain": [
       "{'max_features': 2, 'n_estimators': 80}"
      ]
     },
     "execution_count": 48,
     "metadata": {},
     "output_type": "execute_result"
    }
   ],
   "source": [
    "# Best parameters\n",
    "\n",
    "grid_search2.best_params_"
   ]
  },
  {
   "cell_type": "code",
   "execution_count": 49,
   "id": "039ca4db",
   "metadata": {},
   "outputs": [
    {
     "name": "stdout",
     "output_type": "stream",
     "text": [
      "Model Accuracy for RandomForestClassifier : 0.6538461538461539 \n",
      "               precision    recall  f1-score   support\n",
      "\n",
      "           0       0.75      0.60      0.67        15\n",
      "           1       0.57      0.73      0.64        11\n",
      "\n",
      "    accuracy                           0.65        26\n",
      "   macro avg       0.66      0.66      0.65        26\n",
      "weighted avg       0.67      0.65      0.66        26\n",
      " \n",
      " Confusion Matrix : \n",
      " [[9 6]\n",
      " [3 8]]\n"
     ]
    }
   ],
   "source": [
    "# Using the best parameters to optimize the model\n",
    "\n",
    "RDF_2 = RandomForestClassifier(max_features= 2, n_estimators=80)\n",
    "\n",
    "RDF_2.fit(X_train, y_train)\n",
    "\n",
    "pred_RDF_2 = RDF_2.predict(X_test)\n",
    "\n",
    "print('Model Accuracy for RandomForestClassifier :', accuracy_score(y_test, pred_RDF_2),'\\n', \n",
    "      classification_report(y_test, pred_RDF_2), '\\n', 'Confusion Matrix :', '\\n', confusion_matrix (y_test, pred_RDF_2))"
   ]
  },
  {
   "cell_type": "markdown",
   "id": "ffa4cc96",
   "metadata": {},
   "source": [
    "### Hyperparameter turning XGBClassifier"
   ]
  },
  {
   "cell_type": "code",
   "execution_count": 52,
   "id": "5713256e",
   "metadata": {},
   "outputs": [],
   "source": [
    "parameters3 = [{\"learning_rate\"    : [0.05, 0.10, 0.15, 0.20, 0.25, 0.30 ] ,\n",
    " \"max_depth\"        : [ 3, 4, 5, 6, 8, 10, 12, 15],\n",
    " \"min_child_weight\" : [ 1, 3, 5, 7 ],\n",
    " \"gamma\"            : [ 0.0, 0.1, 0.2 , 0.3, 0.4 ],\n",
    " \"colsample_bytree\" : [ 0.3, 0.4, 0.5 , 0.7 ] \n",
    "              }]\n",
    "\n",
    "grid_search3 = GridSearchCV(XGB, param_grid= parameters3, cv= 5)\n",
    "\n",
    "grid_search3 = grid_search3.fit(X_train, y_train)"
   ]
  },
  {
   "cell_type": "code",
   "execution_count": 53,
   "id": "d68651ab",
   "metadata": {},
   "outputs": [
    {
     "data": {
      "text/plain": [
       "0.6699999999999999"
      ]
     },
     "execution_count": 53,
     "metadata": {},
     "output_type": "execute_result"
    }
   ],
   "source": [
    "accuracy_XGB = grid_search3.best_score_\n",
    "accuracy_XGB"
   ]
  },
  {
   "cell_type": "code",
   "execution_count": 54,
   "id": "43127bc3",
   "metadata": {},
   "outputs": [
    {
     "data": {
      "text/plain": [
       "{'colsample_bytree': 0.5,\n",
       " 'gamma': 0.1,\n",
       " 'learning_rate': 0.15,\n",
       " 'max_depth': 6,\n",
       " 'min_child_weight': 1}"
      ]
     },
     "execution_count": 54,
     "metadata": {},
     "output_type": "execute_result"
    }
   ],
   "source": [
    "grid_search3.best_params_"
   ]
  },
  {
   "cell_type": "code",
   "execution_count": null,
   "id": "fb1bf54a",
   "metadata": {},
   "outputs": [],
   "source": []
  }
 ],
 "metadata": {
  "kernelspec": {
   "display_name": "Anaconda(base)",
   "language": "python",
   "name": "anaconda-base"
  },
  "language_info": {
   "codemirror_mode": {
    "name": "ipython",
    "version": 3
   },
   "file_extension": ".py",
   "mimetype": "text/x-python",
   "name": "python",
   "nbconvert_exporter": "python",
   "pygments_lexer": "ipython3",
   "version": "3.9.13"
  }
 },
 "nbformat": 4,
 "nbformat_minor": 5
}
